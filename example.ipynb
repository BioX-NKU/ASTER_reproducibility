{
 "cells": [
  {
   "attachments": {},
   "cell_type": "markdown",
   "id": "34a6f656",
   "metadata": {},
   "source": [
    "**The following tutorial demonstrates how to use ASTER for estimating the number of cell types in a single-cell chromatin accessibility dataset of human hematopoietic cells ([Buenrostro, et al., 2018](https://doi.org/10.1016/j.cell.2018.03.074)).**"
   ]
  },
  {
   "cell_type": "markdown",
   "id": "d7bbd13b",
   "metadata": {},
   "source": [
    "Import ASTER and the dependencies."
   ]
  },
  {
   "cell_type": "code",
   "execution_count": 1,
   "id": "2d1611b7",
   "metadata": {
    "ExecuteTime": {
     "end_time": "2022-12-02T07:18:07.584913Z",
     "start_time": "2022-12-02T07:18:05.835419Z"
    }
   },
   "outputs": [],
   "source": [
    "import epiaster as aster\n",
    "import scanpy as sc\n",
    "import pandas as pd\n",
    "import numpy as np"
   ]
  },
  {
   "attachments": {},
   "cell_type": "markdown",
   "id": "c5a36cfc",
   "metadata": {},
   "source": [
    "Load the AnnData object of `n_obs` × `n_vars` count matrix (rows correspond to cells and columns to genes), the true number of cell types, and the list of optional numbers of cell types for estimation."
   ]
  },
  {
   "cell_type": "code",
   "execution_count": 2,
   "id": "cf6e5f1f",
   "metadata": {
    "ExecuteTime": {
     "end_time": "2022-12-02T07:18:08.733063Z",
     "start_time": "2022-12-02T07:18:07.587875Z"
    }
   },
   "outputs": [],
   "source": [
    "data_name = 'BoneMarrow'\n",
    "adata = sc.read('./%s.h5ad'%data_name)\n",
    "k_search = pd.read_csv('./%s_search.csv'%data_name, header=None).iloc[0,:].values\n",
    "true_k = k_search[0]\n",
    "search_list = list(k_search[1:])"
   ]
  },
  {
   "cell_type": "markdown",
   "id": "e347c68d",
   "metadata": {},
   "source": [
    "Show the cell counts of various cell types."
   ]
  },
  {
   "cell_type": "code",
   "execution_count": 3,
   "id": "494aee7b",
   "metadata": {
    "ExecuteTime": {
     "end_time": "2022-12-02T07:18:08.744923Z",
     "start_time": "2022-12-02T07:18:08.734660Z"
    }
   },
   "outputs": [
    {
     "data": {
      "text/plain": [
       "CMP     502\n",
       "GMP     402\n",
       "HSC     347\n",
       "LMPP    160\n",
       "MPP     142\n",
       "pDC     141\n",
       "MEP     138\n",
       "CLP      78\n",
       "mono     64\n",
       "UNK      60\n",
       "Name: cell_type, dtype: int64"
      ]
     },
     "execution_count": 3,
     "metadata": {},
     "output_type": "execute_result"
    }
   ],
   "source": [
    "adata.obs.cell_type.value_counts()"
   ]
  },
  {
   "cell_type": "markdown",
   "id": "b1bd0383",
   "metadata": {},
   "source": [
    "Estimate the number of cell types using ASTER."
   ]
  },
  {
   "cell_type": "code",
   "execution_count": 4,
   "id": "a12aabda",
   "metadata": {
    "ExecuteTime": {
     "end_time": "2022-12-02T07:21:51.315087Z",
     "start_time": "2022-12-02T07:18:08.746832Z"
    }
   },
   "outputs": [
    {
     "name": "stdout",
     "output_type": "stream",
     "text": [
      "Raw dataset shape:  (2034, 430107)\n",
      "Dataset shape after preprocessing:  (2034, 100934)\n",
      "Estimating by sum of squared distances...\n"
     ]
    },
    {
     "name": "stderr",
     "output_type": "stream",
     "text": [
      "100%|██████████████████████████████████████████████████████████████████████████████████████████████████████████████████████████████████████████████████████████████| 19/19 [00:56<00:00,  2.97s/it]\n"
     ]
    },
    {
     "name": "stdout",
     "output_type": "stream",
     "text": [
      "Estimating by Davies-Bouldin score...\n"
     ]
    },
    {
     "name": "stderr",
     "output_type": "stream",
     "text": [
      "100%|██████████████████████████████████████████████████████████████████████████████████████████████████████████████████████████████████████████████████████████████| 19/19 [00:37<00:00,  1.96s/it]\n"
     ]
    },
    {
     "name": "stdout",
     "output_type": "stream",
     "text": [
      "Estimating by silhouette coefficient...\n"
     ]
    },
    {
     "name": "stderr",
     "output_type": "stream",
     "text": [
      "100%|██████████████████████████████████████████████████████████████████████████████████████████████████████████████████████████████████████████████████████████████| 19/19 [00:29<00:00,  1.54s/it]\n"
     ]
    }
   ],
   "source": [
    "estimated_k = aster.estimate_k(adata, search_list)"
   ]
  },
  {
   "cell_type": "markdown",
   "id": "060869c2",
   "metadata": {},
   "source": [
    "Evaluate the estimation performance."
   ]
  },
  {
   "cell_type": "code",
   "execution_count": 5,
   "id": "9464b2a0",
   "metadata": {
    "ExecuteTime": {
     "end_time": "2022-12-02T07:21:51.322785Z",
     "start_time": "2022-12-02T07:21:51.318053Z"
    }
   },
   "outputs": [
    {
     "name": "stdout",
     "output_type": "stream",
     "text": [
      "{'data_name': 'BoneMarrow', 'true_k': 10, 'estimated_k': 10, 'est_error': 0, 'est_deviation': 0.0}\n"
     ]
    }
   ],
   "source": [
    "est_error = estimated_k - true_k\n",
    "est_deviation = est_error / true_k\n",
    "print({'data_name':data_name, 'true_k':true_k, \n",
    "       'estimated_k':estimated_k, 'est_error':est_error, 'est_deviation':est_deviation})"
   ]
  }
 ],
 "metadata": {
  "kernelspec": {
   "display_name": "py38",
   "language": "python",
   "name": "py38"
  },
  "language_info": {
   "codemirror_mode": {
    "name": "ipython",
    "version": 3
   },
   "file_extension": ".py",
   "mimetype": "text/x-python",
   "name": "python",
   "nbconvert_exporter": "python",
   "pygments_lexer": "ipython3",
   "version": "3.8.13"
  },
  "toc": {
   "base_numbering": 1,
   "nav_menu": {},
   "number_sections": true,
   "sideBar": true,
   "skip_h1_title": false,
   "title_cell": "Table of Contents",
   "title_sidebar": "Contents",
   "toc_cell": false,
   "toc_position": {},
   "toc_section_display": true,
   "toc_window_display": false
  }
 },
 "nbformat": 4,
 "nbformat_minor": 5
}
